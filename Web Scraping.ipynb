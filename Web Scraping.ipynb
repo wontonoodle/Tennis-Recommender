{
 "cells": [
  {
   "cell_type": "markdown",
   "metadata": {},
   "source": [
    "Webscrap for tennis rackets"
   ]
  },
  {
   "cell_type": "code",
   "execution_count": 26,
   "metadata": {},
   "outputs": [
    {
     "data": {
      "text/plain": [
       "<sqlite3.Cursor at 0x19ecf328f10>"
      ]
     },
     "execution_count": 26,
     "metadata": {},
     "output_type": "execute_result"
    }
   ],
   "source": [
    "#include all the libraries\n",
    "import requests\n",
    "import os\n",
    "from bs4 import BeautifulSoup\n",
    "from csv import writer\n",
    "import sqlite3\n",
    "\n",
    "conn = sqlite3.connect('rawtennisrackets.db')\n",
    "c = conn.cursor()\n",
    "\n",
    "c.execute('''CREATE TABLE IF NOT EXISTS tennis_specs(Manufacturer text, Model text, Headsize REAL, Length REAAL, Strung _weight REAL, Balance TEXT, Swing_weight REAL, Beam_Width Real, Power_Level REAL, Stiffness REAL, Strining_Pattern TEXT)''')"
   ]
  },
  {
   "cell_type": "code",
   "execution_count": 14,
   "metadata": {},
   "outputs": [],
   "source": [
    "#checking if the excel file exists\n",
    "def does_file_exists(str):\n",
    "    if os.path.exists(str):\n",
    "        print(\"Excel File Already Exists - will append file\")\n",
    "        return True\n",
    "    print(\"Excel File Does Not Exist - will create file\")\n",
    "    return False "
   ]
  },
  {
   "cell_type": "code",
   "execution_count": 15,
   "metadata": {},
   "outputs": [],
   "source": [
    "#connect to the webpage to scrap\n",
    "def get_racquet_data(url):\n",
    "    \n",
    "    page = requests.get(url)\n",
    "    soup = BeautifulSoup(page.content, 'html.parser')\n",
    "    results = soup.find_all('div', class_= 'rac_info')\n",
    "    if page.status_code == 200:\n",
    "        print(\"Connect to webpage successfully!\")\n",
    "        return results\n",
    "    else:\n",
    "        print(\"Error in connecting to webpage! check URL\")\n",
    "        "
   ]
  },
  {
   "cell_type": "code",
   "execution_count": 22,
   "metadata": {},
   "outputs": [],
   "source": [
    "#pulling data from HTML\n",
    "def append_to_excel(results, filename):\n",
    "    print(\"Extracting data from html\")\n",
    "    with open(filename, 'a', newline = \"\", encoding = 'utf8') as f:\n",
    "        thewriter = writer(f)\n",
    "        for result in results:\n",
    "            racquet_name = result.find('div', class_='rac_name').text.replace('\\n','')\n",
    "            brand_name =str(result.find('div', class_='rac_name').contents).replace('[\\'','').replace('\\']','').split()[0]\n",
    "            head = str(result.find('th', text='Head Size: ').next_sibling.contents).replace('[\\'','').split()[0]\n",
    "            length = str(result.find('th', text='Length: ').next_sibling.contents).replace('[\\'','').split()[0]\n",
    "            strung_weight = str(result.find('th', text='Strung Weight: ').next_sibling.contents).replace('[\\'','').split()[0]\n",
    "            balance = result.find('th', text='Balance: ').next_sibling.text.replace('\\n','')\n",
    "            swing_weight = result.find('th', text='Swing Weight: ').next_sibling.text.replace('\\n','')\n",
    "            beam_width = str(result.find('th', text='Beam Width: ').next_sibling.contents).replace('mm','').replace('[\\'','').replace('\\']','').split()[0]\n",
    "            power = result.find('th', text='Power Level: ').next_sibling.text.replace('\\n','')\n",
    "            stiffness = result.find('th', text='Stiffness: ').next_sibling.text.replace('\\n','')\n",
    "            string_pattern = result.find('th', text = 'String Pattern: ').next_sibling.text.replace('\\n','')\n",
    "            c.execute(\"INSERT INTO tennis_specs VALUES (?,?,?,?,?,?,?,?,?,?,?)\", (brand_name, racquet_name, head, length, strung_weight, balance, swing_weight, beam_width, power, stiffness, string_pattern))\n",
    "            #print statements for testing purpose\n",
    "            # print(f\"Brand: {brand_name}\")\n",
    "            # print(f\"Racket Name: {racquet_name}\")\n",
    "            # print(f\"Head Size (sq_inches): {head}\")\n",
    "            # print(f\"Length (inches): {length}\")\n",
    "            # print(f\"Strung Weight (oz): {strung_weight}\")\n",
    "            # print(f\"Balance: {balance}\")\n",
    "            # print(f\"Swing Weight: {swing_weight}\")\n",
    "            # print(f\"Beam Width: {beam_width}\")\n",
    "            # print(f\"Power Level: {power}\")\n",
    "            # print(f\"Stiffness: {stiffness}\")\n",
    "            # print(f\"String Pattern: {string_pattern}\")\n",
    "\n",
    "            racket_info = [brand_name, racquet_name, head, length, strung_weight, balance, swing_weight, beam_width, power, stiffness, string_pattern]\n",
    "            thewriter.writerow(racket_info)\n",
    "\n"
   ]
  },
  {
   "cell_type": "code",
   "execution_count": 23,
   "metadata": {},
   "outputs": [],
   "source": [
    "#pulling data from HTML\n",
    "def write_to_excel(results, filename):\n",
    "    print(\"Extracting data from html\")\n",
    "    with open(filename, 'w', newline = \"\", encoding = 'utf8') as f:\n",
    "        thewriter = writer(f)\n",
    "        header = [\"Manufacturer\", \"Name\", \"Headsize (sq_inch)\", \"Length (inn)\", \"Strung Weight (oz)\", \"Balance\", \"Swingweight\", \"Beamwidth\", \"Power Level\",  \"Stiffness\", \"Stringing Pattern\"]\n",
    "        thewriter.writerow(header)\n",
    "        for result in results:\n",
    "            racquet_name = result.find('div', class_='rac_name').text.replace('\\n','')\n",
    "            brand_name =str(result.find('div', class_='rac_name').contents).replace('[\\'','').replace('\\']','').split()[0]\n",
    "            head = str(result.find('th', text='Head Size: ').next_sibling.contents).replace('[\\'','').split()[0]\n",
    "            length = str(result.find('th', text='Length: ').next_sibling.contents).replace('[\\'','').split()[0]\n",
    "            strung_weight = str(result.find('th', text='Strung Weight: ').next_sibling.contents).replace('[\\'','').split()[0]\n",
    "            balance = result.find('th', text='Balance: ').next_sibling.text.replace('\\n','')\n",
    "            swing_weight = result.find('th', text='Swing Weight: ').next_sibling.text.replace('\\n','')\n",
    "            beam_width = str(result.find('th', text='Beam Width: ').next_sibling.contents).replace('mm','').replace('[\\'','').replace('\\']','').split()[0]\n",
    "            power = result.find('th', text='Power Level: ').next_sibling.text.replace('\\n','')\n",
    "            stiffness = result.find('th', text='Stiffness: ').next_sibling.text.replace('\\n','')\n",
    "            string_pattern = result.find('th', text = 'String Pattern: ').next_sibling.text.replace('\\n','')\n",
    "            c.execute(\"INSERT INTO tennis_specs VALUES (?,?,?,?,?,?,?,?,?,?,?)\", (brand_name, racquet_name, head, length, strung_weight, balance, swing_weight, beam_width, power, stiffness, string_pattern))\n",
    "\n",
    "            #print statements for testing purpose\n",
    "            # print(f\"Brand: {brand_name}\")\n",
    "            # print(f\"Racket Name: {racquet_name}\")\n",
    "            # print(f\"Head Size (sq_inches): {head}\")\n",
    "            # print(f\"Length (inches): {length}\")\n",
    "            # print(f\"Strung Weight (oz): {strung_weight}\")\n",
    "            # print(f\"Balance: {balance}\")\n",
    "            # print(f\"Swing Weight: {swing_weight}\")\n",
    "            # print(f\"Beam Width: {beam_width}\")\n",
    "            # print(f\"Power Level: {power}\")\n",
    "            # print(f\"Stiffness: {stiffness}\")\n",
    "            # print(f\"String Pattern: {string_pattern}\")\n",
    "\n",
    "            racket_info = [brand_name, racquet_name, head, length, strung_weight, balance, swing_weight, beam_width, power, stiffness, string_pattern]\n",
    "            thewriter.writerow(racket_info)\n"
   ]
  },
  {
   "cell_type": "code",
   "execution_count": 24,
   "metadata": {},
   "outputs": [],
   "source": [
    "def webscrap(url, filename):\n",
    "    \n",
    "    results = get_racquet_data(url)\n",
    "    \n",
    "    if does_file_exists(filename):\n",
    "        append_to_excel(results, filename)\n",
    "\n",
    "    else:\n",
    "        with open(filename, 'w', newline = \"\", encoding = 'utf8') as f:     \n",
    "            write_to_excel(results, filename)\n",
    "    print(\"Extraction Completed and saved to file\")"
   ]
  },
  {
   "cell_type": "code",
   "execution_count": 25,
   "metadata": {},
   "outputs": [
    {
     "name": "stdout",
     "output_type": "stream",
     "text": [
      "Connect to webpage successfully!\n",
      "Excel File Already Exists - will append file\n",
      "Extracting data from html\n"
     ]
    },
    {
     "ename": "OperationalError",
     "evalue": "table tennis_specs has 14 columns but 11 values were supplied",
     "output_type": "error",
     "traceback": [
      "\u001b[1;31m---------------------------------------------------------------------------\u001b[0m",
      "\u001b[1;31mOperationalError\u001b[0m                          Traceback (most recent call last)",
      "\u001b[1;32mc:\\Users\\BetaKraken\\Desktop\\Github\\Recommender\\Web Scraping Script for Tennis Rackets.ipynb Cell 8\u001b[0m in \u001b[0;36m<cell line: 7>\u001b[1;34m()\u001b[0m\n\u001b[0;32m      <a href='vscode-notebook-cell:/c%3A/Users/BetaKraken/Desktop/Github/Recommender/Web%20Scraping%20Script%20for%20Tennis%20Rackets.ipynb#X10sZmlsZQ%3D%3D?line=6'>7</a>\u001b[0m \u001b[39mfor\u001b[39;00m x \u001b[39min\u001b[39;00m brand_list:\n\u001b[0;32m      <a href='vscode-notebook-cell:/c%3A/Users/BetaKraken/Desktop/Github/Recommender/Web%20Scraping%20Script%20for%20Tennis%20Rackets.ipynb#X10sZmlsZQ%3D%3D?line=7'>8</a>\u001b[0m     urls \u001b[39m=\u001b[39m url_string\u001b[39m.\u001b[39mreplace(\u001b[39m'\u001b[39m\u001b[39m{x}\u001b[39;00m\u001b[39m'\u001b[39m, x)\n\u001b[1;32m----> <a href='vscode-notebook-cell:/c%3A/Users/BetaKraken/Desktop/Github/Recommender/Web%20Scraping%20Script%20for%20Tennis%20Rackets.ipynb#X10sZmlsZQ%3D%3D?line=8'>9</a>\u001b[0m     webscrap(urls, filename)\n\u001b[0;32m     <a href='vscode-notebook-cell:/c%3A/Users/BetaKraken/Desktop/Github/Recommender/Web%20Scraping%20Script%20for%20Tennis%20Rackets.ipynb#X10sZmlsZQ%3D%3D?line=9'>10</a>\u001b[0m     conn\u001b[39m.\u001b[39mcommit()\n",
      "\u001b[1;32mc:\\Users\\BetaKraken\\Desktop\\Github\\Recommender\\Web Scraping Script for Tennis Rackets.ipynb Cell 8\u001b[0m in \u001b[0;36mwebscrap\u001b[1;34m(url, filename)\u001b[0m\n\u001b[0;32m      <a href='vscode-notebook-cell:/c%3A/Users/BetaKraken/Desktop/Github/Recommender/Web%20Scraping%20Script%20for%20Tennis%20Rackets.ipynb#X10sZmlsZQ%3D%3D?line=2'>3</a>\u001b[0m results \u001b[39m=\u001b[39m get_racquet_data(url)\n\u001b[0;32m      <a href='vscode-notebook-cell:/c%3A/Users/BetaKraken/Desktop/Github/Recommender/Web%20Scraping%20Script%20for%20Tennis%20Rackets.ipynb#X10sZmlsZQ%3D%3D?line=4'>5</a>\u001b[0m \u001b[39mif\u001b[39;00m does_file_exists(filename):\n\u001b[1;32m----> <a href='vscode-notebook-cell:/c%3A/Users/BetaKraken/Desktop/Github/Recommender/Web%20Scraping%20Script%20for%20Tennis%20Rackets.ipynb#X10sZmlsZQ%3D%3D?line=5'>6</a>\u001b[0m     append_to_excel(results, filename)\n\u001b[0;32m      <a href='vscode-notebook-cell:/c%3A/Users/BetaKraken/Desktop/Github/Recommender/Web%20Scraping%20Script%20for%20Tennis%20Rackets.ipynb#X10sZmlsZQ%3D%3D?line=7'>8</a>\u001b[0m \u001b[39melse\u001b[39;00m:\n\u001b[0;32m      <a href='vscode-notebook-cell:/c%3A/Users/BetaKraken/Desktop/Github/Recommender/Web%20Scraping%20Script%20for%20Tennis%20Rackets.ipynb#X10sZmlsZQ%3D%3D?line=8'>9</a>\u001b[0m     \u001b[39mwith\u001b[39;00m \u001b[39mopen\u001b[39m(filename, \u001b[39m'\u001b[39m\u001b[39mw\u001b[39m\u001b[39m'\u001b[39m, newline \u001b[39m=\u001b[39m \u001b[39m\"\u001b[39m\u001b[39m\"\u001b[39m, encoding \u001b[39m=\u001b[39m \u001b[39m'\u001b[39m\u001b[39mutf8\u001b[39m\u001b[39m'\u001b[39m) \u001b[39mas\u001b[39;00m f:     \n",
      "\u001b[1;32mc:\\Users\\BetaKraken\\Desktop\\Github\\Recommender\\Web Scraping Script for Tennis Rackets.ipynb Cell 8\u001b[0m in \u001b[0;36mappend_to_excel\u001b[1;34m(results, filename)\u001b[0m\n\u001b[0;32m     <a href='vscode-notebook-cell:/c%3A/Users/BetaKraken/Desktop/Github/Recommender/Web%20Scraping%20Script%20for%20Tennis%20Rackets.ipynb#X10sZmlsZQ%3D%3D?line=15'>16</a>\u001b[0m stiffness \u001b[39m=\u001b[39m result\u001b[39m.\u001b[39mfind(\u001b[39m'\u001b[39m\u001b[39mth\u001b[39m\u001b[39m'\u001b[39m, text\u001b[39m=\u001b[39m\u001b[39m'\u001b[39m\u001b[39mStiffness: \u001b[39m\u001b[39m'\u001b[39m)\u001b[39m.\u001b[39mnext_sibling\u001b[39m.\u001b[39mtext\u001b[39m.\u001b[39mreplace(\u001b[39m'\u001b[39m\u001b[39m\\n\u001b[39;00m\u001b[39m'\u001b[39m,\u001b[39m'\u001b[39m\u001b[39m'\u001b[39m)\n\u001b[0;32m     <a href='vscode-notebook-cell:/c%3A/Users/BetaKraken/Desktop/Github/Recommender/Web%20Scraping%20Script%20for%20Tennis%20Rackets.ipynb#X10sZmlsZQ%3D%3D?line=16'>17</a>\u001b[0m string_pattern \u001b[39m=\u001b[39m result\u001b[39m.\u001b[39mfind(\u001b[39m'\u001b[39m\u001b[39mth\u001b[39m\u001b[39m'\u001b[39m, text \u001b[39m=\u001b[39m \u001b[39m'\u001b[39m\u001b[39mString Pattern: \u001b[39m\u001b[39m'\u001b[39m)\u001b[39m.\u001b[39mnext_sibling\u001b[39m.\u001b[39mtext\u001b[39m.\u001b[39mreplace(\u001b[39m'\u001b[39m\u001b[39m\\n\u001b[39;00m\u001b[39m'\u001b[39m,\u001b[39m'\u001b[39m\u001b[39m'\u001b[39m)\n\u001b[1;32m---> <a href='vscode-notebook-cell:/c%3A/Users/BetaKraken/Desktop/Github/Recommender/Web%20Scraping%20Script%20for%20Tennis%20Rackets.ipynb#X10sZmlsZQ%3D%3D?line=17'>18</a>\u001b[0m c\u001b[39m.\u001b[39;49mexecute(\u001b[39m\"\u001b[39;49m\u001b[39mINSERT INTO tennis_specs VALUES (?,?,?,?,?,?,?,?,?,?,?)\u001b[39;49m\u001b[39m\"\u001b[39;49m, (brand_name, racquet_name, head, length, strung_weight, balance, swing_weight, beam_width, power, stiffness, string_pattern))\n\u001b[0;32m     <a href='vscode-notebook-cell:/c%3A/Users/BetaKraken/Desktop/Github/Recommender/Web%20Scraping%20Script%20for%20Tennis%20Rackets.ipynb#X10sZmlsZQ%3D%3D?line=18'>19</a>\u001b[0m \u001b[39m#print statements for testing purpose\u001b[39;00m\n\u001b[0;32m     <a href='vscode-notebook-cell:/c%3A/Users/BetaKraken/Desktop/Github/Recommender/Web%20Scraping%20Script%20for%20Tennis%20Rackets.ipynb#X10sZmlsZQ%3D%3D?line=19'>20</a>\u001b[0m \u001b[39m# print(f\"Brand: {brand_name}\")\u001b[39;00m\n\u001b[0;32m     <a href='vscode-notebook-cell:/c%3A/Users/BetaKraken/Desktop/Github/Recommender/Web%20Scraping%20Script%20for%20Tennis%20Rackets.ipynb#X10sZmlsZQ%3D%3D?line=20'>21</a>\u001b[0m \u001b[39m# print(f\"Racket Name: {racquet_name}\")\u001b[39;00m\n\u001b[1;32m   (...)\u001b[0m\n\u001b[0;32m     <a href='vscode-notebook-cell:/c%3A/Users/BetaKraken/Desktop/Github/Recommender/Web%20Scraping%20Script%20for%20Tennis%20Rackets.ipynb#X10sZmlsZQ%3D%3D?line=28'>29</a>\u001b[0m \u001b[39m# print(f\"Stiffness: {stiffness}\")\u001b[39;00m\n\u001b[0;32m     <a href='vscode-notebook-cell:/c%3A/Users/BetaKraken/Desktop/Github/Recommender/Web%20Scraping%20Script%20for%20Tennis%20Rackets.ipynb#X10sZmlsZQ%3D%3D?line=29'>30</a>\u001b[0m \u001b[39m# print(f\"String Pattern: {string_pattern}\")\u001b[39;00m\n\u001b[0;32m     <a href='vscode-notebook-cell:/c%3A/Users/BetaKraken/Desktop/Github/Recommender/Web%20Scraping%20Script%20for%20Tennis%20Rackets.ipynb#X10sZmlsZQ%3D%3D?line=31'>32</a>\u001b[0m racket_info \u001b[39m=\u001b[39m [brand_name, racquet_name, head, length, strung_weight, balance, swing_weight, beam_width, power, stiffness, string_pattern]\n",
      "\u001b[1;31mOperationalError\u001b[0m: table tennis_specs has 14 columns but 11 values were supplied"
     ]
    }
   ],
   "source": [
    "#driver code\n",
    "filename = 'test.csv'\n",
    "brand_list = [\"Babolat\", \"Wilson\", \"Head\", \"Prince\", \"Dunlop\", \"Yonex\", \"Tecnifibre\", \"Volkl\"]\n",
    "#current racktet = y , old racket = N for the url_string\n",
    "url_string =\"http://www.racquetfinder.com/?name=&manufacturer={x}&hsMin=&hsMax=&lMin=&lMax=&wMin=&wMax=&swMin=&swMax=&fMin=&fMax=&bpMin=&bpMax=&bwMin=&bwMax=&mains=&crosses=&current=Y\"\n",
    "\n",
    "for x in brand_list:\n",
    "    urls = url_string.replace('{x}', x)\n",
    "    webscrap(urls, filename)\n",
    "    conn.commit()\n"
   ]
  }
 ],
 "metadata": {
  "kernelspec": {
   "display_name": "Python 3.9.5 64-bit",
   "language": "python",
   "name": "python3"
  },
  "language_info": {
   "codemirror_mode": {
    "name": "ipython",
    "version": 3
   },
   "file_extension": ".py",
   "mimetype": "text/x-python",
   "name": "python",
   "nbconvert_exporter": "python",
   "pygments_lexer": "ipython3",
   "version": "3.9.13"
  },
  "orig_nbformat": 4,
  "vscode": {
   "interpreter": {
    "hash": "ef98a0b6ce88b8363b35726253faebcd27ce1b1adac564209cc25d2ff63b9cbd"
   }
  }
 },
 "nbformat": 4,
 "nbformat_minor": 2
}

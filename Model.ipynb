{
 "cells": [
  {
   "cell_type": "code",
   "execution_count": 1,
   "metadata": {},
   "outputs": [],
   "source": [
    "import pandas as pd\n",
    "df_rackets = pd.read_csv('racket_data_cleaned.csv')\n",
    "col_names = ['Headsize (sq_inch)', 'Strung Weight (oz)', 'Swingweight', 'Beamwidth', 'Stiffness']\n",
    "\n",
    "X = df_rackets[col_names].values\n",
    "y = df_rackets['Power Level'].values.astype('int')"
   ]
  },
  {
   "cell_type": "code",
   "execution_count": 2,
   "metadata": {},
   "outputs": [
    {
     "data": {
      "text/plain": [
       "count    772.000000\n",
       "mean      65.514249\n",
       "std        4.251321\n",
       "min       47.000000\n",
       "25%       63.000000\n",
       "50%       66.000000\n",
       "75%       68.000000\n",
       "max       77.000000\n",
       "Name: Stiffness, dtype: float64"
      ]
     },
     "execution_count": 2,
     "metadata": {},
     "output_type": "execute_result"
    }
   ],
   "source": [
    "df_rackets['Stiffness'].describe()"
   ]
  },
  {
   "cell_type": "code",
   "execution_count": 3,
   "metadata": {},
   "outputs": [],
   "source": [
    "# Split the data into training and test data set\n",
    "from sklearn.model_selection import train_test_split \n",
    "X_train, X_test, y_train, y_test = train_test_split(X,y, train_size=0.8,test_size=0.2,random_state=42)\n",
    "\n",
    "testing = X_train[0]\n",
    "\n"
   ]
  },
  {
   "cell_type": "code",
   "execution_count": 4,
   "metadata": {},
   "outputs": [],
   "source": [
    "from sklearn.preprocessing import StandardScaler\n",
    "sc = StandardScaler()\n",
    "X_train = sc.fit_transform(X_train)\n",
    "X_test = sc.transform(X_test)\n",
    "\n",
    "\n"
   ]
  },
  {
   "cell_type": "code",
   "execution_count": 5,
   "metadata": {},
   "outputs": [
    {
     "name": "stdout",
     "output_type": "stream",
     "text": [
      "[0.53127482 0.23056106 0.14711581]\n",
      "3\n",
      "[-1.36896008 -0.92850942 -0.14767151]\n"
     ]
    }
   ],
   "source": [
    "from sklearn.decomposition import PCA\n",
    "\n",
    "pca = PCA(n_components = 3)\n",
    "X_train = pca.fit_transform(X_train)\n",
    "X_test =  pca.transform(X_test)   \n",
    "\n",
    "print(pca.explained_variance_ratio_)\n",
    "print(pca.n_components_)\n",
    "\n",
    "print(X_train[1])"
   ]
  },
  {
   "cell_type": "code",
   "execution_count": 6,
   "metadata": {},
   "outputs": [
    {
     "name": "stdout",
     "output_type": "stream",
     "text": [
      "[[85 10  0]\n",
      " [14 26  2]\n",
      " [ 0  9  9]]\n"
     ]
    },
    {
     "data": {
      "text/plain": [
       "0.7741935483870968"
      ]
     },
     "execution_count": 6,
     "metadata": {},
     "output_type": "execute_result"
    }
   ],
   "source": [
    "from sklearn.linear_model import LogisticRegression\n",
    "classifier = LogisticRegression(random_state = 0)\n",
    "classifier.fit(X_train, y_train)\n",
    "\n",
    "y_pred = classifier.predict(X_test)\n",
    "\n",
    "from sklearn.metrics import confusion_matrix, accuracy_score\n",
    "cm = confusion_matrix(y_test, y_pred)\n",
    "print(cm)\n",
    "accuracy_score(y_test,y_pred)"
   ]
  },
  {
   "cell_type": "code",
   "execution_count": 7,
   "metadata": {},
   "outputs": [
    {
     "data": {
      "text/plain": [
       "array([[-1.5221194 ,  0.20637295, -0.83407888],\n",
       "       [ 0.16207994,  0.04022825, -0.13949955],\n",
       "       [ 1.36003946, -0.2466012 ,  0.97357843]])"
      ]
     },
     "execution_count": 7,
     "metadata": {},
     "output_type": "execute_result"
    }
   ],
   "source": [
    "classifier.coef_\n",
    "# classifier.intercept_"
   ]
  },
  {
   "cell_type": "code",
   "execution_count": 8,
   "metadata": {},
   "outputs": [
    {
     "data": {
      "text/plain": [
       "['pca_jlib']"
      ]
     },
     "execution_count": 8,
     "metadata": {},
     "output_type": "execute_result"
    }
   ],
   "source": [
    "# loading dependency\n",
    "import joblib\n",
    "\n",
    "# saving our model # model - model , filename-model_jlib\n",
    "joblib.dump(classifier, 'model_jlib')\n",
    "joblib.dump(sc, 'scaler_jlib')\n",
    "joblib.dump(pca, 'pca_jlib')"
   ]
  },
  {
   "cell_type": "code",
   "execution_count": 9,
   "metadata": {},
   "outputs": [
    {
     "data": {
      "text/plain": [
       "array([1])"
      ]
     },
     "execution_count": 9,
     "metadata": {},
     "output_type": "execute_result"
    }
   ],
   "source": [
    "# opening the file- model_jlib\n",
    "m_jlib = joblib.load('model_jlib')\n",
    "# check prediction\n",
    "\n",
    "input_str = [103,10.7,329,22.5,67]\n",
    "input_str = sc.transform([input_str])\n",
    "test1 = input_str[0,:3]\n",
    "\n",
    "m_jlib.predict([test1]) # similar\n"
   ]
  }
 ],
 "metadata": {
  "kernelspec": {
   "display_name": "Python 3.9.5 64-bit",
   "language": "python",
   "name": "python3"
  },
  "language_info": {
   "codemirror_mode": {
    "name": "ipython",
    "version": 3
   },
   "file_extension": ".py",
   "mimetype": "text/x-python",
   "name": "python",
   "nbconvert_exporter": "python",
   "pygments_lexer": "ipython3",
   "version": "3.9.13"
  },
  "orig_nbformat": 4,
  "vscode": {
   "interpreter": {
    "hash": "ef98a0b6ce88b8363b35726253faebcd27ce1b1adac564209cc25d2ff63b9cbd"
   }
  }
 },
 "nbformat": 4,
 "nbformat_minor": 2
}

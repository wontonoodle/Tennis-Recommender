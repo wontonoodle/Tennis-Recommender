{
 "cells": [
  {
   "cell_type": "markdown",
   "metadata": {},
   "source": [
    "Webscrap for tennis rackets"
   ]
  },
  {
   "cell_type": "code",
   "execution_count": 2,
   "metadata": {},
   "outputs": [],
   "source": [
    "#include all the libraries\n",
    "import requests\n",
    "import os\n",
    "from bs4 import BeautifulSoup\n",
    "from csv import writer\n"
   ]
  },
  {
   "cell_type": "code",
   "execution_count": 3,
   "metadata": {},
   "outputs": [],
   "source": [
    "#checking if the excel file exists\n",
    "def does_file_exists(str):\n",
    "    if os.path.exists(str):\n",
    "        print(\"Excel File Already Exists - will append file\")\n",
    "        return True\n",
    "    print(\"Excel File Does Not Exist - will create file\")\n",
    "    return False "
   ]
  },
  {
   "cell_type": "code",
   "execution_count": 4,
   "metadata": {},
   "outputs": [],
   "source": [
    "#connect to the webpage to scrap\n",
    "def get_racquet_data(url):\n",
    "    \n",
    "    page = requests.get(url)\n",
    "    soup = BeautifulSoup(page.content, 'html.parser')\n",
    "    results = soup.find_all('div', class_= 'rac_info')\n",
    "    if page.status_code == 200:\n",
    "        print(\"Connect to webpage successfully!\")\n",
    "        return results\n",
    "    else:\n",
    "        print(\"Error in connecting to webpage! check URL\")\n",
    "        "
   ]
  },
  {
   "cell_type": "code",
   "execution_count": 5,
   "metadata": {},
   "outputs": [],
   "source": [
    "#pulling data from HTML\n",
    "def append_to_excel(results, filename):\n",
    "    print(\"Extracting data from html\")\n",
    "    with open(filename, 'a', newline = \"\", encoding = 'utf8') as f:\n",
    "        thewriter = writer(f)\n",
    "        for result in results:\n",
    "            racquet_name = result.find('div', class_='rac_name').text.replace('\\n','')\n",
    "            brand_name =str(result.find('div', class_='rac_name').contents).replace('[\\'','').replace('\\']','').split()[0]\n",
    "            head = str(result.find('th', text='Head Size: ').next_sibling.contents).replace('[\\'','').split()[0]\n",
    "            length = str(result.find('th', text='Length: ').next_sibling.contents).replace('[\\'','').split()[0]\n",
    "            strung_weight = str(result.find('th', text='Strung Weight: ').next_sibling.contents).replace('[\\'','').split()[0]\n",
    "            balance = result.find('th', text='Balance: ').next_sibling.text.replace('\\n','')\n",
    "            swing_weight = result.find('th', text='Swing Weight: ').next_sibling.text.replace('\\n','')\n",
    "            beam_width = str(result.find('th', text='Beam Width: ').next_sibling.contents).replace('mm','').replace('[\\'','').replace('\\']','').split()[0]\n",
    "            power = result.find('th', text='Power Level: ').next_sibling.text.replace('\\n','')\n",
    "            stiffness = result.find('th', text='Stiffness: ').next_sibling.text.replace('\\n','')\n",
    "            string_pattern = result.find('th', text = 'String Pattern: ').next_sibling.text.replace('\\n','')\n",
    "            \n",
    "            #print statements for testing purpose\n",
    "            # print(f\"Brand: {brand_name}\")\n",
    "            # print(f\"Racket Name: {racquet_name}\")\n",
    "            # print(f\"Head Size (sq_inches): {head}\")\n",
    "            # print(f\"Length (inches): {length}\")\n",
    "            # print(f\"Strung Weight (oz): {strung_weight}\")\n",
    "            # print(f\"Balance: {balance}\")\n",
    "            # print(f\"Swing Weight: {swing_weight}\")\n",
    "            # print(f\"Beam Width: {beam_width}\")\n",
    "            # print(f\"Power Level: {power}\")\n",
    "            # print(f\"Stiffness: {stiffness}\")\n",
    "            # print(f\"String Pattern: {string_pattern}\")\n",
    "\n",
    "            racket_info = [brand_name, racquet_name, head, length, strung_weight, balance, swing_weight, beam_width, power, stiffness, string_pattern]\n",
    "            thewriter.writerow(racket_info)\n",
    "\n"
   ]
  },
  {
   "cell_type": "code",
   "execution_count": 6,
   "metadata": {},
   "outputs": [],
   "source": [
    "#pulling data from HTML\n",
    "def write_to_excel(results, filename):\n",
    "    print(\"Extracting data from html\")\n",
    "    with open(filename, 'w', newline = \"\", encoding = 'utf8') as f:\n",
    "        thewriter = writer(f)\n",
    "        header = [\"Manufacturer\", \"Name\", \"Headsize (sq_inch)\", \"Length (inn)\", \"Strung Weight (oz)\", \"Balance\", \"Swingweight\", \"Beamwidth\", \"Power Level\",  \"Stiffness\", \"Stringing Pattern\"]\n",
    "        thewriter.writerow(header)\n",
    "        for result in results:\n",
    "            racquet_name = result.find('div', class_='rac_name').text.replace('\\n','')\n",
    "            brand_name =str(result.find('div', class_='rac_name').contents).replace('[\\'','').replace('\\']','').split()[0]\n",
    "            head = str(result.find('th', text='Head Size: ').next_sibling.contents).replace('[\\'','').split()[0]\n",
    "            length = str(result.find('th', text='Length: ').next_sibling.contents).replace('[\\'','').split()[0]\n",
    "            strung_weight = str(result.find('th', text='Strung Weight: ').next_sibling.contents).replace('[\\'','').split()[0]\n",
    "            balance = result.find('th', text='Balance: ').next_sibling.text.replace('\\n','')\n",
    "            swing_weight = result.find('th', text='Swing Weight: ').next_sibling.text.replace('\\n','')\n",
    "            beam_width = str(result.find('th', text='Beam Width: ').next_sibling.contents).replace('mm','').replace('[\\'','').replace('\\']','').split()[0]\n",
    "            power = result.find('th', text='Power Level: ').next_sibling.text.replace('\\n','')\n",
    "            stiffness = result.find('th', text='Stiffness: ').next_sibling.text.replace('\\n','')\n",
    "            string_pattern = result.find('th', text = 'String Pattern: ').next_sibling.text.replace('\\n','')\n",
    "            \n",
    "            #print statements for testing purpose\n",
    "            # print(f\"Brand: {brand_name}\")\n",
    "            # print(f\"Racket Name: {racquet_name}\")\n",
    "            # print(f\"Head Size (sq_inches): {head}\")\n",
    "            # print(f\"Length (inches): {length}\")\n",
    "            # print(f\"Strung Weight (oz): {strung_weight}\")\n",
    "            # print(f\"Balance: {balance}\")\n",
    "            # print(f\"Swing Weight: {swing_weight}\")\n",
    "            # print(f\"Beam Width: {beam_width}\")\n",
    "            # print(f\"Power Level: {power}\")\n",
    "            # print(f\"Stiffness: {stiffness}\")\n",
    "            # print(f\"String Pattern: {string_pattern}\")\n",
    "\n",
    "            racket_info = [brand_name, racquet_name, head, length, strung_weight, balance, swing_weight, beam_width, power, stiffness, string_pattern]\n",
    "            thewriter.writerow(racket_info)\n"
   ]
  },
  {
   "cell_type": "code",
   "execution_count": 7,
   "metadata": {},
   "outputs": [],
   "source": [
    "def webscrap(url, filename):\n",
    "    \n",
    "    results = get_racquet_data(url)\n",
    "    \n",
    "    if does_file_exists(filename):\n",
    "        append_to_excel(results, filename)\n",
    "\n",
    "    else:\n",
    "        with open(filename, 'w', newline = \"\", encoding = 'utf8') as f:     \n",
    "            write_to_excel(results, filename)\n",
    "    print(\"Extraction Completed and saved to file\")"
   ]
  },
  {
   "cell_type": "code",
   "execution_count": 8,
   "metadata": {},
   "outputs": [
    {
     "name": "stdout",
     "output_type": "stream",
     "text": [
      "Connect to webpage successfully!\n",
      "Excel File Already Exists - will append file\n",
      "Extracting data from html\n",
      "Extraction Completed and saved to file\n",
      "Connect to webpage successfully!\n",
      "Excel File Already Exists - will append file\n",
      "Extracting data from html\n",
      "Extraction Completed and saved to file\n",
      "Connect to webpage successfully!\n",
      "Excel File Already Exists - will append file\n",
      "Extracting data from html\n",
      "Extraction Completed and saved to file\n",
      "Connect to webpage successfully!\n",
      "Excel File Already Exists - will append file\n",
      "Extracting data from html\n",
      "Extraction Completed and saved to file\n",
      "Connect to webpage successfully!\n",
      "Excel File Already Exists - will append file\n",
      "Extracting data from html\n",
      "Extraction Completed and saved to file\n",
      "Connect to webpage successfully!\n",
      "Excel File Already Exists - will append file\n",
      "Extracting data from html\n",
      "Extraction Completed and saved to file\n",
      "Connect to webpage successfully!\n",
      "Excel File Already Exists - will append file\n",
      "Extracting data from html\n",
      "Extraction Completed and saved to file\n",
      "Connect to webpage successfully!\n",
      "Excel File Already Exists - will append file\n",
      "Extracting data from html\n",
      "Extraction Completed and saved to file\n"
     ]
    }
   ],
   "source": [
    "#driver code\n",
    "filename = 'racquet_data.csv'\n",
    "brand_list = [\"Babolat\", \"Wilson\", \"Head\", \"Prince\", \"Dunlop\", \"Yonex\", \"Tecnifibre\", \"Volkl\"]\n",
    "#current racktet = y , old racket = N for the url_string\n",
    "url_string =\"http://www.racquetfinder.com/?name=&manufacturer={x}&hsMin=&hsMax=&lMin=&lMax=&wMin=&wMax=&swMin=&swMax=&fMin=&fMax=&bpMin=&bpMax=&bwMin=&bwMax=&mains=&crosses=&current=Y\"\n",
    "\n",
    "for x in brand_list:\n",
    "    urls = url_string.replace('{x}', x)\n",
    "    webscrap(urls, filename)\n"
   ]
  }
 ],
 "metadata": {
  "kernelspec": {
   "display_name": "Python 3.9.5 64-bit",
   "language": "python",
   "name": "python3"
  },
  "language_info": {
   "codemirror_mode": {
    "name": "ipython",
    "version": 3
   },
   "file_extension": ".py",
   "mimetype": "text/x-python",
   "name": "python",
   "nbconvert_exporter": "python",
   "pygments_lexer": "ipython3",
   "version": "3.9.13"
  },
  "orig_nbformat": 4,
  "vscode": {
   "interpreter": {
    "hash": "ef98a0b6ce88b8363b35726253faebcd27ce1b1adac564209cc25d2ff63b9cbd"
   }
  }
 },
 "nbformat": 4,
 "nbformat_minor": 2
}
